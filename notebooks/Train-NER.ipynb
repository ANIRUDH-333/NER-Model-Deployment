{
 "cells": [
  {
   "cell_type": "code",
   "execution_count": 2,
   "metadata": {
    "execution": {
     "iopub.execute_input": "2025-03-13T16:48:35.749199Z",
     "iopub.status.busy": "2025-03-13T16:48:35.748889Z",
     "iopub.status.idle": "2025-03-13T16:48:36.711790Z",
     "shell.execute_reply": "2025-03-13T16:48:36.711107Z",
     "shell.execute_reply.started": "2025-03-13T16:48:35.749179Z"
    },
    "trusted": true
   },
   "outputs": [],
   "source": [
    "\n",
    "\n",
    "# Import required libraries\n",
    "import pandas as pd\n",
    "import numpy as np\n",
    "import matplotlib.pyplot as plt\n",
    "import seaborn as sns\n",
    "from datasets import load_dataset\n"
   ]
  },
  {
   "cell_type": "code",
   "execution_count": 3,
   "metadata": {
    "execution": {
     "iopub.execute_input": "2025-03-13T16:48:36.713622Z",
     "iopub.status.busy": "2025-03-13T16:48:36.713175Z",
     "iopub.status.idle": "2025-03-13T16:48:37.752424Z",
     "shell.execute_reply": "2025-03-13T16:48:37.751662Z",
     "shell.execute_reply.started": "2025-03-13T16:48:36.713582Z"
    },
    "trusted": true
   },
   "outputs": [
    {
     "data": {
      "text/plain": [
       "DatasetDict({\n",
       "    train: Dataset({\n",
       "        features: ['id', 'tokens', 'pos_tags', 'chunk_tags', 'ner_tags'],\n",
       "        num_rows: 14041\n",
       "    })\n",
       "    validation: Dataset({\n",
       "        features: ['id', 'tokens', 'pos_tags', 'chunk_tags', 'ner_tags'],\n",
       "        num_rows: 3250\n",
       "    })\n",
       "    test: Dataset({\n",
       "        features: ['id', 'tokens', 'pos_tags', 'chunk_tags', 'ner_tags'],\n",
       "        num_rows: 3453\n",
       "    })\n",
       "})"
      ]
     },
     "execution_count": 3,
     "metadata": {},
     "output_type": "execute_result"
    }
   ],
   "source": [
    "# Load the dataset from the Hugging Face datasets library\n",
    "dataset = load_dataset(\"conll2003\")\n",
    "\n",
    "# Display available splits (train, validation, test)\n",
    "dataset\n"
   ]
  },
  {
   "cell_type": "code",
   "execution_count": 4,
   "metadata": {
    "execution": {
     "iopub.execute_input": "2025-03-13T16:48:37.753750Z",
     "iopub.status.busy": "2025-03-13T16:48:37.753535Z",
     "iopub.status.idle": "2025-03-13T16:48:38.963524Z",
     "shell.execute_reply": "2025-03-13T16:48:38.962384Z",
     "shell.execute_reply.started": "2025-03-13T16:48:37.753731Z"
    },
    "trusted": true
   },
   "outputs": [
    {
     "data": {
      "text/html": [
       "<div>\n",
       "<style scoped>\n",
       "    .dataframe tbody tr th:only-of-type {\n",
       "        vertical-align: middle;\n",
       "    }\n",
       "\n",
       "    .dataframe tbody tr th {\n",
       "        vertical-align: top;\n",
       "    }\n",
       "\n",
       "    .dataframe thead th {\n",
       "        text-align: right;\n",
       "    }\n",
       "</style>\n",
       "<table border=\"1\" class=\"dataframe\">\n",
       "  <thead>\n",
       "    <tr style=\"text-align: right;\">\n",
       "      <th></th>\n",
       "      <th>id</th>\n",
       "      <th>tokens</th>\n",
       "      <th>pos_tags</th>\n",
       "      <th>chunk_tags</th>\n",
       "      <th>ner_tags</th>\n",
       "    </tr>\n",
       "  </thead>\n",
       "  <tbody>\n",
       "    <tr>\n",
       "      <th>0</th>\n",
       "      <td>0</td>\n",
       "      <td>[EU, rejects, German, call, to, boycott, Briti...</td>\n",
       "      <td>[22, 42, 16, 21, 35, 37, 16, 21, 7]</td>\n",
       "      <td>[11, 21, 11, 12, 21, 22, 11, 12, 0]</td>\n",
       "      <td>[3, 0, 7, 0, 0, 0, 7, 0, 0]</td>\n",
       "    </tr>\n",
       "    <tr>\n",
       "      <th>1</th>\n",
       "      <td>1</td>\n",
       "      <td>[Peter, Blackburn]</td>\n",
       "      <td>[22, 22]</td>\n",
       "      <td>[11, 12]</td>\n",
       "      <td>[1, 2]</td>\n",
       "    </tr>\n",
       "    <tr>\n",
       "      <th>2</th>\n",
       "      <td>2</td>\n",
       "      <td>[BRUSSELS, 1996-08-22]</td>\n",
       "      <td>[22, 11]</td>\n",
       "      <td>[11, 12]</td>\n",
       "      <td>[5, 0]</td>\n",
       "    </tr>\n",
       "    <tr>\n",
       "      <th>3</th>\n",
       "      <td>3</td>\n",
       "      <td>[The, European, Commission, said, on, Thursday...</td>\n",
       "      <td>[12, 22, 22, 38, 15, 22, 28, 38, 15, 16, 21, 3...</td>\n",
       "      <td>[11, 12, 12, 21, 13, 11, 11, 21, 13, 11, 12, 1...</td>\n",
       "      <td>[0, 3, 4, 0, 0, 0, 0, 0, 0, 7, 0, 0, 0, 0, 0, ...</td>\n",
       "    </tr>\n",
       "    <tr>\n",
       "      <th>4</th>\n",
       "      <td>4</td>\n",
       "      <td>[Germany, 's, representative, to, the, Europea...</td>\n",
       "      <td>[22, 27, 21, 35, 12, 22, 22, 27, 16, 21, 22, 2...</td>\n",
       "      <td>[11, 11, 12, 13, 11, 12, 12, 11, 12, 12, 12, 1...</td>\n",
       "      <td>[5, 0, 0, 0, 0, 3, 4, 0, 0, 0, 1, 2, 0, 0, 0, ...</td>\n",
       "    </tr>\n",
       "  </tbody>\n",
       "</table>\n",
       "</div>"
      ],
      "text/plain": [
       "  id                                             tokens  \\\n",
       "0  0  [EU, rejects, German, call, to, boycott, Briti...   \n",
       "1  1                                 [Peter, Blackburn]   \n",
       "2  2                             [BRUSSELS, 1996-08-22]   \n",
       "3  3  [The, European, Commission, said, on, Thursday...   \n",
       "4  4  [Germany, 's, representative, to, the, Europea...   \n",
       "\n",
       "                                            pos_tags  \\\n",
       "0                [22, 42, 16, 21, 35, 37, 16, 21, 7]   \n",
       "1                                           [22, 22]   \n",
       "2                                           [22, 11]   \n",
       "3  [12, 22, 22, 38, 15, 22, 28, 38, 15, 16, 21, 3...   \n",
       "4  [22, 27, 21, 35, 12, 22, 22, 27, 16, 21, 22, 2...   \n",
       "\n",
       "                                          chunk_tags  \\\n",
       "0                [11, 21, 11, 12, 21, 22, 11, 12, 0]   \n",
       "1                                           [11, 12]   \n",
       "2                                           [11, 12]   \n",
       "3  [11, 12, 12, 21, 13, 11, 11, 21, 13, 11, 12, 1...   \n",
       "4  [11, 11, 12, 13, 11, 12, 12, 11, 12, 12, 12, 1...   \n",
       "\n",
       "                                            ner_tags  \n",
       "0                        [3, 0, 7, 0, 0, 0, 7, 0, 0]  \n",
       "1                                             [1, 2]  \n",
       "2                                             [5, 0]  \n",
       "3  [0, 3, 4, 0, 0, 0, 0, 0, 0, 7, 0, 0, 0, 0, 0, ...  \n",
       "4  [5, 0, 0, 0, 0, 3, 4, 0, 0, 0, 1, 2, 0, 0, 0, ...  "
      ]
     },
     "execution_count": 4,
     "metadata": {},
     "output_type": "execute_result"
    }
   ],
   "source": [
    "# Convert the training dataset to a pandas DataFrame\n",
    "df_train = pd.DataFrame(dataset[\"train\"])\n",
    "\n",
    "# Display the first few rows\n",
    "df_train.head()\n"
   ]
  },
  {
   "cell_type": "code",
   "execution_count": 5,
   "metadata": {
    "execution": {
     "iopub.execute_input": "2025-03-13T16:48:38.964904Z",
     "iopub.status.busy": "2025-03-13T16:48:38.964549Z",
     "iopub.status.idle": "2025-03-13T16:48:39.258155Z",
     "shell.execute_reply": "2025-03-13T16:48:39.257087Z",
     "shell.execute_reply.started": "2025-03-13T16:48:38.964866Z"
    },
    "trusted": true
   },
   "outputs": [
    {
     "name": "stdout",
     "output_type": "stream",
     "text": [
      "<class 'pandas.core.frame.DataFrame'>\n",
      "RangeIndex: 14041 entries, 0 to 14040\n",
      "Data columns (total 5 columns):\n",
      " #   Column      Non-Null Count  Dtype \n",
      "---  ------      --------------  ----- \n",
      " 0   id          14041 non-null  object\n",
      " 1   tokens      14041 non-null  object\n",
      " 2   pos_tags    14041 non-null  object\n",
      " 3   chunk_tags  14041 non-null  object\n",
      " 4   ner_tags    14041 non-null  object\n",
      "dtypes: object(5)\n",
      "memory usage: 548.6+ KB\n",
      "None\n",
      "id            0\n",
      "tokens        0\n",
      "pos_tags      0\n",
      "chunk_tags    0\n",
      "ner_tags      0\n",
      "dtype: int64\n"
     ]
    },
    {
     "name": "stderr",
     "output_type": "stream",
     "text": [
      "/usr/local/lib/python3.10/dist-packages/seaborn/_oldcore.py:1765: FutureWarning: unique with argument that is not not a Series, Index, ExtensionArray, or np.ndarray is deprecated and will raise in a future version.\n",
      "  order = pd.unique(vector)\n"
     ]
    },
    {
     "data": {
      "image/png": "[encoded data removed]",
      "text/plain": [
       "<Figure size 1000x500 with 1 Axes>"
      ]
     },
     "metadata": {},
     "output_type": "display_data"
    }
   ],
   "source": [
    "# Check dataset information\n",
    "print(df_train.info())\n",
    "\n",
    "# Check for missing values\n",
    "print(df_train.isnull().sum())\n",
    "\n",
    "# Check entity distribution\n",
    "entity_counts = {}\n",
    "for labels in df_train['ner_tags']:\n",
    "    for label in labels:\n",
    "        entity_counts[label] = entity_counts.get(label, 0) + 1\n",
    "\n",
    "# Plot entity distribution\n",
    "plt.figure(figsize=(10,5))\n",
    "sns.barplot(x=list(entity_counts.keys()), y=list(entity_counts.values()))\n",
    "plt.xlabel(\"Entity Label\")\n",
    "plt.ylabel(\"Count\")\n",
    "plt.title(\"Distribution of Named Entities in the Dataset\")\n",
    "plt.show()\n"
   ]
  },
  {
   "cell_type": "code",
   "execution_count": 6,
   "metadata": {
    "execution": {
     "iopub.execute_input": "2025-03-13T16:48:39.259376Z",
     "iopub.status.busy": "2025-03-13T16:48:39.259073Z",
     "iopub.status.idle": "2025-03-13T16:48:45.106995Z",
     "shell.execute_reply": "2025-03-13T16:48:45.106238Z",
     "shell.execute_reply.started": "2025-03-13T16:48:39.259317Z"
    },
    "trusted": true
   },
   "outputs": [],
   "source": [
    "import torch\n",
    "import numpy as np\n",
    "import pandas as pd\n",
    "from datasets import load_dataset\n",
    "from transformers import AutoModelForTokenClassification, AutoTokenizer, TrainingArguments, Trainer\n",
    "from transformers import DataCollatorForTokenClassification\n",
    "from sklearn.metrics import classification_report\n",
    "from sklearn.model_selection import train_test_split"
   ]
  },
  {
   "cell_type": "code",
   "execution_count": 7,
   "metadata": {
    "execution": {
     "iopub.execute_input": "2025-03-13T16:48:45.108289Z",
     "iopub.status.busy": "2025-03-13T16:48:45.107751Z",
     "iopub.status.idle": "2025-03-13T16:48:45.993793Z",
     "shell.execute_reply": "2025-03-13T16:48:45.992819Z",
     "shell.execute_reply.started": "2025-03-13T16:48:45.108264Z"
    },
    "trusted": true
   },
   "outputs": [],
   "source": [
    "# Load CoNLL-2003 dataset\n",
    "dataset = load_dataset(\"conll2003\")\n",
    "\n",
    "# Define label names from dataset\n",
    "label_names = dataset[\"train\"].features[\"ner_tags\"].feature.names\n",
    "\n",
    "# Load tokenizer for BERT model (using \"bert-base-cased\" since it retains case)\n",
    "tokenizer = AutoTokenizer.from_pretrained(\"bert-base-cased\")\n"
   ]
  },
  {
   "cell_type": "code",
   "execution_count": 8,
   "metadata": {
    "execution": {
     "iopub.execute_input": "2025-03-13T16:48:45.996705Z",
     "iopub.status.busy": "2025-03-13T16:48:45.996391Z",
     "iopub.status.idle": "2025-03-13T16:48:46.001680Z",
     "shell.execute_reply": "2025-03-13T16:48:46.000773Z",
     "shell.execute_reply.started": "2025-03-13T16:48:45.996684Z"
    },
    "trusted": true
   },
   "outputs": [],
   "source": [
    "def tokenize_and_align_labels(examples):\n",
    "    tokenized_inputs = tokenizer(examples[\"tokens\"], truncation=True, padding=\"max_length\", is_split_into_words=True)\n",
    "    \n",
    "    labels = []\n",
    "    for i, label in enumerate(examples[\"ner_tags\"]):\n",
    "        word_ids = tokenized_inputs.word_ids(batch_index=i)  # Map tokens to words\n",
    "        previous_word_id = None\n",
    "        label_ids = []\n",
    "        \n",
    "        for word_id in word_ids:\n",
    "            if word_id is None:\n",
    "                label_ids.append(-100)  # Ignore special tokens\n",
    "            elif word_id != previous_word_id:\n",
    "                label_ids.append(label[word_id])  # Assign label to first token of word\n",
    "            else:\n",
    "                label_ids.append(-100)  # Ignore subword tokens\n",
    "            \n",
    "            previous_word_id = word_id\n",
    "\n",
    "        labels.append(label_ids)\n",
    "\n",
    "    tokenized_inputs[\"labels\"] = labels\n",
    "    return tokenized_inputs\n"
   ]
  },
  {
   "cell_type": "code",
   "execution_count": 9,
   "metadata": {
    "execution": {
     "iopub.execute_input": "2025-03-13T16:48:46.002966Z",
     "iopub.status.busy": "2025-03-13T16:48:46.002736Z",
     "iopub.status.idle": "2025-03-13T16:48:47.609765Z",
     "shell.execute_reply": "2025-03-13T16:48:47.608871Z",
     "shell.execute_reply.started": "2025-03-13T16:48:46.002947Z"
    },
    "trusted": true
   },
   "outputs": [
    {
     "data": {
      "application/vnd.jupyter.widget-view+json": {
       "model_id": "f4c76d04f68441ea874904c65765056d",
       "version_major": 2,
       "version_minor": 0
      },
      "text/plain": [
       "Map:   0%|          | 0/3453 [00:00<?, ? examples/s]"
      ]
     },
     "metadata": {},
     "output_type": "display_data"
    }
   ],
   "source": [
    "tokenized_datasets = dataset.map(tokenize_and_align_labels, batched=True)"
   ]
  },
  {
   "cell_type": "code",
   "execution_count": 10,
   "metadata": {
    "execution": {
     "iopub.execute_input": "2025-03-13T16:48:47.610943Z",
     "iopub.status.busy": "2025-03-13T16:48:47.610697Z",
     "iopub.status.idle": "2025-03-13T16:48:47.614810Z",
     "shell.execute_reply": "2025-03-13T16:48:47.613897Z",
     "shell.execute_reply.started": "2025-03-13T16:48:47.610921Z"
    },
    "trusted": true
   },
   "outputs": [],
   "source": [
    "train_data = tokenized_datasets[\"train\"]\n",
    "val_data = tokenized_datasets[\"validation\"]\n",
    "\n",
    "# Define batch collator\n",
    "data_collator = DataCollatorForTokenClassification(tokenizer)"
   ]
  },
  {
   "cell_type": "code",
   "execution_count": 11,
   "metadata": {
    "execution": {
     "iopub.execute_input": "2025-03-13T16:48:47.615908Z",
     "iopub.status.busy": "2025-03-13T16:48:47.615616Z",
     "iopub.status.idle": "2025-03-13T16:48:47.828028Z",
     "shell.execute_reply": "2025-03-13T16:48:47.827408Z",
     "shell.execute_reply.started": "2025-03-13T16:48:47.615879Z"
    },
    "trusted": true
   },
   "outputs": [
    {
     "name": "stderr",
     "output_type": "stream",
     "text": [
      "Some weights of BertForTokenClassification were not initialized from the model checkpoint at bert-base-cased and are newly initialized: ['classifier.bias', 'classifier.weight']\n",
      "You should probably TRAIN this model on a down-stream task to be able to use it for predictions and inference.\n"
     ]
    }
   ],
   "source": [
    "model = AutoModelForTokenClassification.from_pretrained(\"bert-base-cased\", num_labels=len(label_names))"
   ]
  },
  {
   "cell_type": "code",
   "execution_count": 12,
   "metadata": {
    "execution": {
     "iopub.execute_input": "2025-03-13T16:48:47.828898Z",
     "iopub.status.busy": "2025-03-13T16:48:47.828705Z",
     "iopub.status.idle": "2025-03-13T16:48:47.910354Z",
     "shell.execute_reply": "2025-03-13T16:48:47.909557Z",
     "shell.execute_reply.started": "2025-03-13T16:48:47.828880Z"
    },
    "trusted": true
   },
   "outputs": [
    {
     "name": "stderr",
     "output_type": "stream",
     "text": [
      "/usr/local/lib/python3.10/dist-packages/transformers/training_args.py:1575: FutureWarning: `evaluation_strategy` is deprecated and will be removed in version 4.46 of 🤗 Transformers. Use `eval_strategy` instead\n",
      "  warnings.warn(\n"
     ]
    }
   ],
   "source": [
    "training_args = TrainingArguments(\n",
    "    output_dir=\"./ner_model\",\n",
    "    evaluation_strategy=\"epoch\",\n",
    "    save_strategy=\"no\",  # Don't save the model\n",
    "    learning_rate=2e-5,\n",
    "    per_device_train_batch_size=8,\n",
    "    per_device_eval_batch_size=8,\n",
    "    num_train_epochs=3,\n",
    "    weight_decay=0.01,\n",
    "    logging_dir=\"./logs\",\n",
    "    logging_steps=10,\n",
    ")\n"
   ]
  },
  {
   "cell_type": "code",
   "execution_count": 13,
   "metadata": {
    "execution": {
     "iopub.execute_input": "2025-03-13T16:48:47.911489Z",
     "iopub.status.busy": "2025-03-13T16:48:47.911241Z",
     "iopub.status.idle": "2025-03-13T16:48:48.179049Z",
     "shell.execute_reply": "2025-03-13T16:48:48.178136Z",
     "shell.execute_reply.started": "2025-03-13T16:48:47.911468Z"
    },
    "trusted": true
   },
   "outputs": [
    {
     "name": "stderr",
     "output_type": "stream",
     "text": [
      "/usr/local/lib/python3.10/dist-packages/transformers/training_args.py:1575: FutureWarning: `evaluation_strategy` is deprecated and will be removed in version 4.46 of 🤗 Transformers. Use `eval_strategy` instead\n",
      "  warnings.warn(\n"
     ]
    }
   ],
   "source": [
    "import torch\n",
    "\n",
    "# Ensure model runs on GPU if available\n",
    "device = torch.device(\"cuda\" if torch.cuda.is_available() else \"cpu\")\n",
    "model.to(device)\n",
    "\n",
    "training_args = TrainingArguments(\n",
    "    output_dir=\"./ner_model\",\n",
    "    evaluation_strategy=\"epoch\",\n",
    "    save_strategy=\"no\",  # Don't save the model\n",
    "    learning_rate=2e-5,\n",
    "    per_device_train_batch_size=8,\n",
    "    per_device_eval_batch_size=8,\n",
    "    num_train_epochs=3,\n",
    "    weight_decay=0.01,\n",
    "    logging_dir=\"./logs\",\n",
    "    logging_steps=10,\n",
    "    report_to=\"none\",  # Disable WandB logging\n",
    ")"
   ]
  },
  {
   "cell_type": "code",
   "execution_count": 15,
   "metadata": {
    "execution": {
     "iopub.execute_input": "2025-03-13T16:49:54.596171Z",
     "iopub.status.busy": "2025-03-13T16:49:54.595722Z",
     "iopub.status.idle": "2025-03-13T17:32:28.904938Z",
     "shell.execute_reply": "2025-03-13T17:32:28.904228Z",
     "shell.execute_reply.started": "2025-03-13T16:49:54.596146Z"
    },
    "trusted": true
   },
   "outputs": [
    {
     "name": "stderr",
     "output_type": "stream",
     "text": [
      "<ipython-input-15-8e8a6cdb5aaf>:1: FutureWarning: `tokenizer` is deprecated and will be removed in version 5.0.0 for `Trainer.__init__`. Use `processing_class` instead.\n",
      "  trainer = Trainer(\n"
     ]
    },
    {
     "data": {
      "text/html": [
       "\n",
       "    <div>\n",
       "      \n",
       "      <progress value='5268' max='5268' style='width:300px; height:20px; vertical-align: middle;'></progress>\n",
       "      [5268/5268 42:33, Epoch 3/3]\n",
       "    </div>\n",
       "    <table border=\"1\" class=\"dataframe\">\n",
       "  <thead>\n",
       " <tr style=\"text-align: left;\">\n",
       "      <th>Epoch</th>\n",
       "      <th>Training Loss</th>\n",
       "      <th>Validation Loss</th>\n",
       "    </tr>\n",
       "  </thead>\n",
       "  <tbody>\n",
       "    <tr>\n",
       "      <td>1</td>\n",
       "      <td>0.044100</td>\n",
       "      <td>0.040805</td>\n",
       "    </tr>\n",
       "    <tr>\n",
       "      <td>2</td>\n",
       "      <td>0.021300</td>\n",
       "      <td>0.043620</td>\n",
       "    </tr>\n",
       "    <tr>\n",
       "      <td>3</td>\n",
       "      <td>0.004400</td>\n",
       "      <td>0.042589</td>\n",
       "    </tr>\n",
       "  </tbody>\n",
       "</table><p>"
      ],
      "text/plain": [
       "<IPython.core.display.HTML object>"
      ]
     },
     "metadata": {},
     "output_type": "display_data"
    },
    {
     "data": {
      "text/plain": [
       "TrainOutput(global_step=5268, training_loss=0.03365928685450297, metrics={'train_runtime': 2553.8634, 'train_samples_per_second': 16.494, 'train_steps_per_second': 2.063, 'total_flos': 1.1007299854181376e+16, 'train_loss': 0.03365928685450297, 'epoch': 3.0})"
      ]
     },
     "execution_count": 15,
     "metadata": {},
     "output_type": "execute_result"
    }
   ],
   "source": [
    "trainer = Trainer(\n",
    "    model=model,\n",
    "    args=training_args,\n",
    "    train_dataset=train_data,\n",
    "    eval_dataset=val_data,\n",
    "    tokenizer=tokenizer,\n",
    "    data_collator=data_collator,\n",
    ")\n",
    "\n",
    "trainer.train()\n"
   ]
  },
  {
   "cell_type": "code",
   "execution_count": null,
   "metadata": {
    "execution": {
     "iopub.status.busy": "2025-03-13T19:40:15.589237Z",
     "iopub.status.idle": "2025-03-13T19:40:15.589556Z",
     "shell.execute_reply": "2025-03-13T19:40:15.589422Z"
    },
    "trusted": true
   },
   "outputs": [],
   "source": [
    "label_names_test = dataset[\"test\"].features[\"ner_tags\"].feature.names"
   ]
  },
  {
   "cell_type": "code",
   "execution_count": null,
   "metadata": {
    "trusted": true
   },
   "outputs": [],
   "source": [
    "test_data = tokenized_datasets[\"test\"]"
   ]
  },
  {
   "cell_type": "code",
   "execution_count": null,
   "metadata": {
    "execution": {
     "iopub.status.busy": "2025-03-13T16:49:35.765484Z",
     "iopub.status.idle": "2025-03-13T16:49:35.765762Z",
     "shell.execute_reply": "2025-03-13T16:49:35.765652Z"
    },
    "trusted": true
   },
   "outputs": [],
   "source": [
    "predictions, labels, _ = trainer.predict(test_data)\n",
    "preds = np.argmax(predictions, axis=2)\n",
    "\n",
    "# Convert predictions and labels to actual entity names\n",
    "true_entities = [[label_names_test[l] for l in label if l != -100] for label in labels]\n",
    "pred_entities = [[label_names_test[p] for (p, l) in zip(pred, label) if l != -100] for pred, label in zip(preds, labels)]\n",
    "\n",
    "# Generate evaluation report\n",
    "print(classification_report(true_entities, pred_entities))\n"
   ]
  }
 ],
 "metadata": {
  "kaggle": {
   "accelerator": "gpu",
   "dataSources": [],
   "dockerImageVersionId": 30919,
   "isGpuEnabled": true,
   "isInternetEnabled": true,
   "language": "python",
   "sourceType": "notebook"
  },
  "kernelspec": {
   "display_name": "Python 3",
   "language": "python",
   "name": "python3"
  },
  "language_info": {
   "codemirror_mode": {
    "name": "ipython",
    "version": 3
   },
   "file_extension": ".py",
   "mimetype": "text/x-python",
   "name": "python",
   "nbconvert_exporter": "python",
   "pygments_lexer": "ipython3",
   "version": "3.10.12"
  }
 },
 "nbformat": 4,
 "nbformat_minor": 4
}
